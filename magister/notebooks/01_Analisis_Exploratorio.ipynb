{
 "cells": [
  {
   "cell_type": "code",
   "execution_count": 50,
   "metadata": {},
   "outputs": [
    {
     "name": "stdout",
     "output_type": "stream",
     "text": [
      "(15000, 20)\n",
      "   Age      Gender Education Level Marital Status   Income  Credit Score  \\\n",
      "0   49        Male             PhD       Divorced  72799.0         688.0   \n",
      "1   57      Female      Bachelor's        Widowed      NaN         690.0   \n",
      "2   21  Non-binary        Master's         Single  55687.0         600.0   \n",
      "3   59        Male      Bachelor's         Single  26508.0         622.0   \n",
      "4   25  Non-binary      Bachelor's        Widowed  49427.0         766.0   \n",
      "\n",
      "   Loan Amount Loan Purpose Employment Status  Years at Current Job  \\\n",
      "0      45713.0     Business        Unemployed                    19   \n",
      "1      33835.0         Auto          Employed                     6   \n",
      "2      36623.0         Home          Employed                     8   \n",
      "3      26541.0     Personal        Unemployed                     2   \n",
      "4      36528.0     Personal        Unemployed                    10   \n",
      "\n",
      "  Payment History  Debt-to-Income Ratio  Assets Value  Number of Dependents  \\\n",
      "0            Poor              0.154313      120228.0                   0.0   \n",
      "1            Fair              0.148920       55849.0                   0.0   \n",
      "2            Fair              0.362398      180700.0                   3.0   \n",
      "3       Excellent              0.454964      157319.0                   3.0   \n",
      "4            Fair              0.143242      287140.0                   NaN   \n",
      "\n",
      "              City State       Country  Previous Defaults  \\\n",
      "0   Port Elizabeth    AS        Cyprus                2.0   \n",
      "1  North Catherine    OH  Turkmenistan                3.0   \n",
      "2      South Scott    OK    Luxembourg                3.0   \n",
      "3       Robinhaven    PR        Uganda                4.0   \n",
      "4      New Heather    IL       Namibia                3.0   \n",
      "\n",
      "   Marital Status Change Risk Rating  \n",
      "0                      2         Low  \n",
      "1                      2      Medium  \n",
      "2                      2      Medium  \n",
      "3                      2      Medium  \n",
      "4                      1         Low  \n",
      "Age                        int64\n",
      "Gender                    object\n",
      "Education Level           object\n",
      "Marital Status            object\n",
      "Income                   float64\n",
      "Credit Score             float64\n",
      "Loan Amount              float64\n",
      "Loan Purpose              object\n",
      "Employment Status         object\n",
      "Years at Current Job       int64\n",
      "Payment History           object\n",
      "Debt-to-Income Ratio     float64\n",
      "Assets Value             float64\n",
      "Number of Dependents     float64\n",
      "City                      object\n",
      "State                     object\n",
      "Country                   object\n",
      "Previous Defaults        float64\n",
      "Marital Status Change      int64\n",
      "Risk Rating               object\n",
      "dtype: object\n"
     ]
    }
   ],
   "source": [
    "import pandas as pd\n",
    "import matplotlib.pyplot as plt\n",
    "\n",
    "df = pd.read_csv(\"C:\\\\Users\\\\nicol\\\\Desktop\\\\financial_risk_assessment.csv\")\n",
    "#encabezados\n",
    "print(df.shape)\n",
    "\n",
    "#Tipo de cada encabezado\n",
    "print(df.dtypes)"
   ]
  },
  {
   "cell_type": "markdown",
   "metadata": {},
   "source": [
    "Age(intiger)= Representa la edad de la persona evaluada.  \n",
    "Gender(object)= Representa el genero de la persona evaluada.  \n",
    "Education Level(object)= Representa el nivel de educacion alcanzado por el evaluado.  \n",
    "Marital Status(object)= Represetan el estado civil de la persona evaluada.  \n",
    "Income(float)= Representa los ingresos anuales de la persona evaluada.  \n",
    "Credit Score(float)= Representa el valor numérico que indica solvencia de la persona evaluada, que oscila entre 600 y 800.  \n",
    "Loan Amount(float)= Representa si el evaluado tiene algun prestamo, indicando su monto.  \n",
    "Loan Purpose(object)= Representa el motivo del prestamo.  \n",
    "Employment Status(object)= Indica que si el esta empleoado, desempleao o independiente.  \n",
    "Years at Current Job(intiger)= Representa la antiguedad de la persona en su trabajo.  \n",
    "Payment History(object)= Representa el comportamiendo con los pagos de sus deudas.  \n",
    "Debt-to-Income Ratio(float)= Relación deuda-ingresos, que indica apalancamiento financiero y riesgo.  \n",
    "Assets Value(float64)= Valor de los activos del evaluado.  \n",
    "Number of Dependents(float)= Cantidad de cargas por evaluado.  \n",
    "City(object)= Ciudad de residencia del evaluado.  \n",
    "State(object)= Indica el estado donde reside el evaluado.  \n",
    "Country(object)= Indica el pais de residencia del evaluado.  \n",
    "Previous Defaults=(float)= Cantidad de veces que que el evaluado a incumplido un prestamo.  \n",
    "Marital Status Change(intiger)= Cantidad de veces que el evaluado a cambiado su estado civil.  \n",
    "Risk Rating(object)= Clasifica el riesgo financiero en Bajo, Medio o Alto.  "
   ]
  },
  {
   "cell_type": "code",
   "execution_count": 52,
   "metadata": {},
   "outputs": [
    {
     "name": "stdout",
     "output_type": "stream",
     "text": [
      "<class 'pandas.core.frame.DataFrame'>\n",
      "RangeIndex: 15000 entries, 0 to 14999\n",
      "Data columns (total 20 columns):\n",
      " #   Column                 Non-Null Count  Dtype  \n",
      "---  ------                 --------------  -----  \n",
      " 0   Age                    15000 non-null  int64  \n",
      " 1   Gender                 15000 non-null  object \n",
      " 2   Education Level        15000 non-null  object \n",
      " 3   Marital Status         15000 non-null  object \n",
      " 4   Income                 12750 non-null  float64\n",
      " 5   Credit Score           12750 non-null  float64\n",
      " 6   Loan Amount            12750 non-null  float64\n",
      " 7   Loan Purpose           15000 non-null  object \n",
      " 8   Employment Status      15000 non-null  object \n",
      " 9   Years at Current Job   15000 non-null  int64  \n",
      " 10  Payment History        15000 non-null  object \n",
      " 11  Debt-to-Income Ratio   15000 non-null  float64\n",
      " 12  Assets Value           12750 non-null  float64\n",
      " 13  Number of Dependents   12750 non-null  float64\n",
      " 14  City                   15000 non-null  object \n",
      " 15  State                  15000 non-null  object \n",
      " 16  Country                15000 non-null  object \n",
      " 17  Previous Defaults      12750 non-null  float64\n",
      " 18  Marital Status Change  15000 non-null  int64  \n",
      " 19  Risk Rating            15000 non-null  object \n",
      "dtypes: float64(7), int64(3), object(10)\n",
      "memory usage: 2.3+ MB\n",
      "None\n"
     ]
    }
   ],
   "source": [
    "print(df.info())"
   ]
  },
  {
   "cell_type": "code",
   "execution_count": 29,
   "metadata": {},
   "outputs": [
    {
     "name": "stdout",
     "output_type": "stream",
     "text": [
      "Age                         0\n",
      "Gender                      0\n",
      "Education Level             0\n",
      "Marital Status              0\n",
      "Income                   2250\n",
      "Credit Score             2250\n",
      "Loan Amount              2250\n",
      "Loan Purpose                0\n",
      "Employment Status           0\n",
      "Years at Current Job        0\n",
      "Payment History             0\n",
      "Debt-to-Income Ratio        0\n",
      "Assets Value             2250\n",
      "Number of Dependents     2250\n",
      "City                        0\n",
      "State                       0\n",
      "Country                     0\n",
      "Previous Defaults        2250\n",
      "Marital Status Change       0\n",
      "Risk Rating                 0\n",
      "dtype: int64\n"
     ]
    }
   ],
   "source": [
    "#Cantidad de filas por columnas vacias\n",
    "Filas_con_columnas_vacias= df.isnull().sum()\n",
    "print(Filas_con_columnas_vacias)"
   ]
  },
  {
   "cell_type": "code",
   "execution_count": 55,
   "metadata": {},
   "outputs": [
    {
     "name": "stdout",
     "output_type": "stream",
     "text": [
      "Columnas con identificadores únicos:\n",
      "Debt-to-Income Ratio\n"
     ]
    }
   ],
   "source": [
    "total_filas = df.shape[0]\n",
    "\n",
    "# Verificar si alguna columna tiene valores únicos\n",
    "columna_con_identificador_unico= []\n",
    "\n",
    "for column in df.columns:\n",
    "    valor_unico = df[column].nunique()\n",
    "    if valor_unico == total_filas:\n",
    "        columna_con_identificador_unico.append(column)\n",
    "\n",
    "# Mostrar las columnas con identificadores únicos, si existen\n",
    "if columna_con_identificador_unico:\n",
    "    print(\"Columnas con identificadores únicos:\")\n",
    "    for column in columna_con_identificador_unico:\n",
    "        print(column)\n",
    "else:\n",
    "    print(\"No hay columnas con identificadores únicos.\")\n",
    "\n",
    "\n",
    "\n"
   ]
  },
  {
   "cell_type": "markdown",
   "metadata": {},
   "source": [
    "Si bien existen columnas con idetificadores unicos, estas columnas son proporciones o suma de valores los cuales pueden variar por el tiempo por lo cual no existe una llave unica identificadora como lo puede ser un rut en esta base de datos, por lo cual solo para tener una data mas limpia se eliminaran columnas que no puedan tener relevancia"
   ]
  },
  {
   "cell_type": "code",
   "execution_count": 56,
   "metadata": {},
   "outputs": [
    {
     "name": "stdout",
     "output_type": "stream",
     "text": [
      "No hay filas duplicadas.\n"
     ]
    }
   ],
   "source": [
    "import pandas as pd\n",
    "\n",
    "# Suponiendo que df es tu DataFrame\n",
    "# total_filas = df.shape[0]  # No es necesario en esta versión\n",
    "\n",
    "# Verificar si existen filas duplicadas\n",
    "filas_duplicadas = df[df.duplicated(keep=False)]\n",
    "\n",
    "# Mostrar las filas duplicadas, si existen\n",
    "if not filas_duplicadas.empty:\n",
    "    print(\"Filas duplicadas encontradas:\")\n",
    "    print(filas_duplicadas)\n",
    "else:\n",
    "    print(\"No hay filas duplicadas.\")"
   ]
  },
  {
   "cell_type": "code",
   "execution_count": 57,
   "metadata": {},
   "outputs": [
    {
     "name": "stdout",
     "output_type": "stream",
     "text": [
      "Gender\n",
      "Non-binary    5059\n",
      "Female        4990\n",
      "Male          4951\n",
      "Name: count, dtype: int64\n",
      "Edad promedio por genero\n",
      "Gender\n",
      "Female        43.610621\n",
      "Male          43.334478\n",
      "Non-binary    43.412532\n",
      "Name: Age, dtype: float64\n"
     ]
    }
   ],
   "source": [
    "\n",
    "# Contar el número de datos por género\n",
    "conteo_por_genero = df['Gender'].value_counts()\n",
    "print(conteo_por_genero)\n",
    "\n",
    "Edad_promedio_por_genero = df.groupby('Gender')['Age'].mean()\n",
    "print(\"Edad promedio por genero\")\n",
    "print( Edad_promedio_por_genero)"
   ]
  },
  {
   "cell_type": "code",
   "execution_count": 58,
   "metadata": {},
   "outputs": [
    {
     "name": "stdout",
     "output_type": "stream",
     "text": [
      "Risk Rating  High   Low  Medium\n",
      "Gender                         \n",
      "Female        518  2981    1491\n",
      "Male          515  2921    1515\n",
      "Non-binary    467  3098    1494\n"
     ]
    }
   ],
   "source": [
    "# Generar una tabla contando el tipo de riesgo por genero\n",
    "riesgo_por_genero = df.groupby(['Gender', 'Risk Rating']).size().unstack(fill_value=0)\n",
    "\n",
    "# Mostrar la tabla\n",
    "print(riesgo_por_genero)"
   ]
  },
  {
   "cell_type": "code",
   "execution_count": 59,
   "metadata": {},
   "outputs": [
    {
     "name": "stdout",
     "output_type": "stream",
     "text": [
      "Education Level  Bachelor's  High School  Master's   PhD\n",
      "Gender                                                  \n",
      "Female                 1208         1303      1230  1249\n",
      "Male                   1285         1234      1200  1232\n",
      "Non-binary             1336         1237      1207  1279\n"
     ]
    }
   ],
   "source": [
    "# Generar una tabla contando el tipo de riesgo por genero\n",
    "riesgo_por_genero = df.groupby(['Gender', 'Education Level']).size().unstack(fill_value=0)\n",
    "# Mostrar la tabla\n",
    "print(riesgo_por_genero)"
   ]
  },
  {
   "cell_type": "code",
   "execution_count": 60,
   "metadata": {},
   "outputs": [
    {
     "name": "stdout",
     "output_type": "stream",
     "text": [
      "Employment Status  Employed  Self-employed  Unemployed\n",
      "Education Level                                       \n",
      "Bachelor's             1300           1239        1290\n",
      "High School            1238           1259        1277\n",
      "Master's               1215           1232        1190\n",
      "PhD                    1273           1261        1226\n"
     ]
    }
   ],
   "source": [
    "# Generar una tabla contando tipo de empleo por educacion\n",
    "Empleo_por_educacion = df.groupby(['Education Level', 'Employment Status']).size().unstack(fill_value=0)\n",
    "# Mostrar la tabla\n",
    "print(Empleo_por_educacion)"
   ]
  },
  {
   "cell_type": "code",
   "execution_count": 61,
   "metadata": {},
   "outputs": [
    {
     "name": "stdout",
     "output_type": "stream",
     "text": [
      "Numero de paises= 243\n",
      "Persona por pais\n",
      "Country\n",
      "Congo                       124\n",
      "Korea                       122\n",
      "French Guiana                87\n",
      "France                       79\n",
      "Trinidad and Tobago          77\n",
      "                           ... \n",
      "Belgium                      47\n",
      "Turks and Caicos Islands     47\n",
      "Guernsey                     46\n",
      "French Polynesia             45\n",
      "Solomon Islands              43\n",
      "Name: count, Length: 243, dtype: int64\n"
     ]
    }
   ],
   "source": [
    "#Numero de paises\n",
    "Paises=df['Country'].nunique()\n",
    "#personas por pais\n",
    "Personas_por_pais= df['Country'].value_counts()\n",
    "\n",
    "print(\"Numero de paises=\",Paises)\n",
    "print(\"Persona por pais\")\n",
    "print(Personas_por_pais)"
   ]
  },
  {
   "cell_type": "code",
   "execution_count": 62,
   "metadata": {},
   "outputs": [
    {
     "name": "stdout",
     "output_type": "stream",
     "text": [
      "                       Country  cantidad de personas con riego alto\n",
      "0                        Chile                                   15\n",
      "1  Falkland Islands (Malvinas)                                   15\n",
      "2                     Bulgaria                                   13\n",
      "3                  Philippines                                   13\n",
      "4                    Hong Kong                                   12\n"
     ]
    }
   ],
   "source": [
    "#Filra las filas con valor riesgo alto\n",
    "riesgo_alto= df[df['Risk Rating'] == 'High']\n",
    "# Contar las personas por país con clasificación de riesgo alto\n",
    "contar_personas_por_pais_riesgo_alto = riesgo_alto['Country'].value_counts().head(5)\n",
    "\n",
    "# Vizualizacion\n",
    "contar_alto_riesgo_df =contar_personas_por_pais_riesgo_alto.reset_index()\n",
    "contar_alto_riesgo_df.columns = ['Country', 'cantidad de personas con riego alto']\n",
    "\n",
    "print(contar_alto_riesgo_df)"
   ]
  },
  {
   "cell_type": "code",
   "execution_count": 63,
   "metadata": {},
   "outputs": [
    {
     "name": "stdout",
     "output_type": "stream",
     "text": [
      "Risk Rating      High   Low  Medium\n",
      "Education Level                    \n",
      "Bachelor's        369  2308    1152\n",
      "High School       381  2246    1147\n",
      "Master's          359  2213    1065\n",
      "PhD               391  2233    1136\n"
     ]
    }
   ],
   "source": [
    "#Tabla educacion por riesgo\n",
    "tabla_educacion_por_riesgo= pd.crosstab(df['Education Level'], df['Risk Rating'])\n",
    "\n",
    "print(tabla_educacion_por_riesgo)"
   ]
  },
  {
   "cell_type": "code",
   "execution_count": 64,
   "metadata": {},
   "outputs": [
    {
     "name": "stdout",
     "output_type": "stream",
     "text": [
      "Tabla agrupada por edad bajo riesgo\n",
      "   intervalopor edad  cantidad de personas bajos riesgo\n",
      "0                0-4                                  0\n",
      "1                5-9                                  0\n",
      "2              10-14                                  0\n",
      "3              15-19                                336\n",
      "4              20-24                                837\n",
      "5              25-29                                844\n",
      "6              30-34                                882\n",
      "7              35-39                                894\n",
      "8              40-44                                888\n",
      "9              45-49                                868\n",
      "10             50-54                                878\n",
      "11             55-59                                847\n",
      "12             60-64                                880\n",
      "13             65-69                                846\n",
      "Tabla agrupada por edad medio riesgo\n",
      "   intervalopor edad  cantidad de personas bajos riesgo\n",
      "0                0-4                                  0\n",
      "1                5-9                                  0\n",
      "2              10-14                                  0\n",
      "3              15-19                                179\n",
      "4              20-24                                419\n",
      "5              25-29                                451\n",
      "6              30-34                                463\n",
      "7              35-39                                427\n",
      "8              40-44                                449\n",
      "9              45-49                                430\n",
      "10             50-54                                434\n",
      "11             55-59                                416\n",
      "12             60-64                                395\n",
      "13             65-69                                437\n",
      "Tabla agrupada por edad alto riesgo\n",
      "   intervalopor edad  cantidad de personas bajos riesgo\n",
      "0                0-4                                  0\n",
      "1                5-9                                  0\n",
      "2              10-14                                  0\n",
      "3              15-19                                 43\n",
      "4              20-24                                143\n",
      "5              25-29                                133\n",
      "6              30-34                                171\n",
      "7              35-39                                139\n",
      "8              40-44                                153\n",
      "9              45-49                                144\n",
      "10             50-54                                135\n",
      "11             55-59                                142\n",
      "12             60-64                                161\n",
      "13             65-69                                136\n"
     ]
    }
   ],
   "source": [
    "# Intervalos de edad\n",
    "intervalo = range(0, df['Age'].max() + 5, 5)\n",
    "etiqueta = [f'{i}-{i+4}' for i in intervalo[:-1]]\n",
    "\n",
    "# Agregar una columna de intervalos de edad al DataFrame\n",
    "df['intervalopor edad'] = pd.cut(df['Age'], bins=intervalo, labels=etiqueta, right=False)\n",
    "\n",
    "# Filtro por cada nivel de riesgo\n",
    "rankingderiesgo_bajo = df[df['Risk Rating'] == 'Low']\n",
    "rankingderiesgo_medio = df[df['Risk Rating'] == 'Medium']\n",
    "rankingderiesgo_alto= df[df['Risk Rating'] == 'High']\n",
    "\n",
    "# Contar por intervalo de edad para cada nivel de riesgo\n",
    "contar_bajo_riesgo = rankingderiesgo_bajo['intervalopor edad'].value_counts().sort_index().reset_index()\n",
    "contar_medio_riesgo = rankingderiesgo_medio['intervalopor edad'].value_counts().sort_index().reset_index()\n",
    "contar_alto_riesgo = rankingderiesgo_alto['intervalopor edad'].value_counts().sort_index().reset_index()\n",
    "\n",
    "# Renombrar las columnas\n",
    "contar_bajo_riesgo.columns = ['intervalopor edad', 'cantidad de personas bajos riesgo']\n",
    "contar_medio_riesgo.columns = ['intervalopor edad', 'cantidad de personas bajos riesgo']\n",
    "contar_alto_riesgo.columns = ['intervalopor edad', 'cantidad de personas bajos riesgo']\n",
    "\n",
    "# Mostrar las tablas\n",
    "print(\"Tabla agrupada por edad bajo riesgo\")\n",
    "print(contar_bajo_riesgo)\n",
    "print(\"Tabla agrupada por edad medio riesgo\")\n",
    "print(contar_medio_riesgo)\n",
    "print(\"Tabla agrupada por edad alto riesgo\")\n",
    "print(contar_alto_riesgo)"
   ]
  },
  {
   "cell_type": "code",
   "execution_count": null,
   "metadata": {},
   "outputs": [],
   "source": []
  }
 ],
 "metadata": {
  "kernelspec": {
   "display_name": "Python 3",
   "language": "python",
   "name": "python3"
  },
  "language_info": {
   "codemirror_mode": {
    "name": "ipython",
    "version": 3
   },
   "file_extension": ".py",
   "mimetype": "text/x-python",
   "name": "python",
   "nbconvert_exporter": "python",
   "pygments_lexer": "ipython3",
   "version": "3.12.4"
  }
 },
 "nbformat": 4,
 "nbformat_minor": 2
}
