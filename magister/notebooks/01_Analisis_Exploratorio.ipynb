{
 "cells": [
  {
   "cell_type": "code",
   "execution_count": 3,
   "metadata": {},
   "outputs": [
    {
     "name": "stdout",
     "output_type": "stream",
     "text": [
      "Index(['Teams', 'Seasons', 'Players', 'Matches', 'Goals', 'Assists',\n",
      "       'Seasons Ratings'],\n",
      "      dtype='object')\n"
     ]
    }
   ],
   "source": [
    "import pandas as pd\n",
    "\n",
    "df = pd.read_csv(\"C:\\\\Users\\\\nicol\\\\Desktop\\\\archive (1)\\\\Latest Football  Players 2024 Data.csv\")\n",
    "print(df.columns)\n"
   ]
  },
  {
   "cell_type": "code",
   "execution_count": 2,
   "metadata": {},
   "outputs": [
    {
     "name": "stdout",
     "output_type": "stream",
     "text": [
      "Número de jugadores únicos: 167\n",
      "Players\n",
      "Adrien Rabiot         2\n",
      "Alejandro Garnacho    1\n",
      "Alex Baena            2\n",
      "Alex Balde            1\n",
      "Alex Sandro           1\n",
      "                     ..\n",
      "Vinicius Junior       3\n",
      "Virgil van Dijk       1\n",
      "Vitor Roque           2\n",
      "Yacine Adli           2\n",
      "koke                  1\n",
      "Name: Teams, Length: 167, dtype: int64\n"
     ]
    }
   ],
   "source": [
    "#Numeros de jugadores\n",
    "num_jugadores = df['Players'].nunique()\n",
    "print(f'Número de jugadores únicos: {num_jugadores}')\n",
    "\n",
    "# Número de equipos que ha tenido cada jugador\n",
    "equipos_por_jugador = df.groupby('Players')['Teams'].nunique()\n",
    "print(equipos_por_jugador)"
   ]
  },
  {
   "cell_type": "code",
   "execution_count": 6,
   "metadata": {},
   "outputs": [
    {
     "name": "stdout",
     "output_type": "stream",
     "text": [
      "Número de equipos: 107\n",
      "Teams\n",
      "AC Milan       9\n",
      "AL Hilal       1\n",
      "AL Ittihad     1\n",
      "AL Nassr       2\n",
      "Ajax           5\n",
      "              ..\n",
      "West Ham       2\n",
      "Wolfsburg      2\n",
      "Wolves         1\n",
      "Zenit          1\n",
      "real Madrid    1\n",
      "Name: Players, Length: 107, dtype: int64\n"
     ]
    }
   ],
   "source": [
    "#Numeros de equipos\n",
    "num_equipos = df['Teams'].nunique()\n",
    "print(f'Número de equipos: {num_equipos}')\n",
    "\n",
    "# Número de equipos que ha tenido cada jugador\n",
    "jugadores_por_equipos = df.groupby('Teams')['Players'].nunique()\n",
    "print(jugadores_por_equipos)"
   ]
  },
  {
   "cell_type": "code",
   "execution_count": null,
   "metadata": {},
   "outputs": [],
   "source": []
  }
 ],
 "metadata": {
  "kernelspec": {
   "display_name": "Python 3",
   "language": "python",
   "name": "python3"
  },
  "language_info": {
   "codemirror_mode": {
    "name": "ipython",
    "version": 3
   },
   "file_extension": ".py",
   "mimetype": "text/x-python",
   "name": "python",
   "nbconvert_exporter": "python",
   "pygments_lexer": "ipython3",
   "version": "3.12.4"
  }
 },
 "nbformat": 4,
 "nbformat_minor": 2
}
