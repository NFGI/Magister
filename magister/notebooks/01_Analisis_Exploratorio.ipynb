{
 "cells": [
  {
   "cell_type": "code",
   "execution_count": 8,
   "metadata": {},
   "outputs": [
    {
     "name": "stdout",
     "output_type": "stream",
     "text": [
      "Index(['Age', 'Gender', 'Education Level', 'Marital Status', 'Income',\n",
      "       'Credit Score', 'Loan Amount', 'Loan Purpose', 'Employment Status',\n",
      "       'Years at Current Job', 'Payment History', 'Debt-to-Income Ratio',\n",
      "       'Assets Value', 'Number of Dependents', 'City', 'State', 'Country',\n",
      "       'Previous Defaults', 'Marital Status Change', 'Risk Rating'],\n",
      "      dtype='object')\n",
      "Age                        int64\n",
      "Gender                    object\n",
      "Education Level           object\n",
      "Marital Status            object\n",
      "Income                   float64\n",
      "Credit Score             float64\n",
      "Loan Amount              float64\n",
      "Loan Purpose              object\n",
      "Employment Status         object\n",
      "Years at Current Job       int64\n",
      "Payment History           object\n",
      "Debt-to-Income Ratio     float64\n",
      "Assets Value             float64\n",
      "Number of Dependents     float64\n",
      "City                      object\n",
      "State                     object\n",
      "Country                   object\n",
      "Previous Defaults        float64\n",
      "Marital Status Change      int64\n",
      "Risk Rating               object\n",
      "dtype: object\n"
     ]
    }
   ],
   "source": [
    "import pandas as pd\n",
    "\n",
    "df = pd.read_csv(\"C:\\\\Users\\\\nicol\\\\Desktop\\\\financial_risk_assessment.csv\")\n",
    "#encabezados\n",
    "print(df.columns)\n",
    "\n",
    "#Tipo de cada encabezado\n",
    "print(df.dtypes)"
   ]
  },
  {
   "cell_type": "code",
   "execution_count": 29,
   "metadata": {},
   "outputs": [
    {
     "name": "stdout",
     "output_type": "stream",
     "text": [
      "Age                         0\n",
      "Gender                      0\n",
      "Education Level             0\n",
      "Marital Status              0\n",
      "Income                   2250\n",
      "Credit Score             2250\n",
      "Loan Amount              2250\n",
      "Loan Purpose                0\n",
      "Employment Status           0\n",
      "Years at Current Job        0\n",
      "Payment History             0\n",
      "Debt-to-Income Ratio        0\n",
      "Assets Value             2250\n",
      "Number of Dependents     2250\n",
      "City                        0\n",
      "State                       0\n",
      "Country                     0\n",
      "Previous Defaults        2250\n",
      "Marital Status Change       0\n",
      "Risk Rating                 0\n",
      "dtype: int64\n"
     ]
    }
   ],
   "source": [
    "#Cantidad de filas por columnas vacias\n",
    "Filas_con_columnas_vacias= df.isnull().sum()\n",
    "print(Filas_con_columnas_vacias)"
   ]
  },
  {
   "cell_type": "code",
   "execution_count": 22,
   "metadata": {},
   "outputs": [
    {
     "name": "stdout",
     "output_type": "stream",
     "text": [
      "Gender\n",
      "Non-binary    5059\n",
      "Female        4990\n",
      "Male          4951\n",
      "Name: count, dtype: int64\n",
      "Edad promedio por genero\n",
      "Gender\n",
      "Female        43.610621\n",
      "Male          43.334478\n",
      "Non-binary    43.412532\n",
      "Name: Age, dtype: float64\n"
     ]
    }
   ],
   "source": [
    "#Numeros de jugadores\n",
    "#num_generos = df['Gender'].nunique()\n",
    "#print(f'Número de jugadores únicos: {num_generos}') ELIIMINAR GUARDADO SOLO POR SI ES NECESARIO REUTILIZAR CODIGO\n",
    "\n",
    "# Número de equipos que ha tenido cada jugador\n",
    "#num_generos = df.count('Gender')['Age'].nunique()\n",
    "#print(num_generos)\n",
    "\n",
    "# Contar el número de datos por género\n",
    "conteo_por_genero = df['Gender'].value_counts()\n",
    "print(conteo_por_genero)\n",
    "\n",
    "Edad_promedio_por_genero = df.groupby('Gender')['Age'].mean()\n",
    "print(\"Edad promedio por genero\")\n",
    "print( Edad_promedio_por_genero)"
   ]
  },
  {
   "cell_type": "code",
   "execution_count": 25,
   "metadata": {},
   "outputs": [
    {
     "name": "stdout",
     "output_type": "stream",
     "text": [
      "Risk Rating  High   Low  Medium\n",
      "Gender                         \n",
      "Female        518  2981    1491\n",
      "Male          515  2921    1515\n",
      "Non-binary    467  3098    1494\n"
     ]
    }
   ],
   "source": [
    "# Generar una tabla contando el tipo de riesgo por genero\n",
    "riesgo_por_genero = df.groupby(['Gender', 'Risk Rating']).size().unstack(fill_value=0)\n",
    "\n",
    "# Mostrar la tabla\n",
    "print(riesgo_por_genero)"
   ]
  },
  {
   "cell_type": "code",
   "execution_count": 26,
   "metadata": {},
   "outputs": [
    {
     "name": "stdout",
     "output_type": "stream",
     "text": [
      "Education Level  Bachelor's  High School  Master's   PhD\n",
      "Gender                                                  \n",
      "Female                 1208         1303      1230  1249\n",
      "Male                   1285         1234      1200  1232\n",
      "Non-binary             1336         1237      1207  1279\n"
     ]
    }
   ],
   "source": [
    "# Generar una tabla contando el tipo de riesgo por genero\n",
    "riesgo_por_genero = df.groupby(['Gender', 'Education Level']).size().unstack(fill_value=0)\n",
    "# Mostrar la tabla\n",
    "print(riesgo_por_genero)"
   ]
  },
  {
   "cell_type": "code",
   "execution_count": 27,
   "metadata": {},
   "outputs": [
    {
     "name": "stdout",
     "output_type": "stream",
     "text": [
      "Employment Status  Employed  Self-employed  Unemployed\n",
      "Education Level                                       \n",
      "Bachelor's             1300           1239        1290\n",
      "High School            1238           1259        1277\n",
      "Master's               1215           1232        1190\n",
      "PhD                    1273           1261        1226\n"
     ]
    }
   ],
   "source": [
    "# Generar una tabla contando tipo de empleo por educacion\n",
    "Empleo_por_educacion = df.groupby(['Education Level', 'Employment Status']).size().unstack(fill_value=0)\n",
    "# Mostrar la tabla\n",
    "print(Empleo_por_educacion)"
   ]
  },
  {
   "cell_type": "code",
   "execution_count": null,
   "metadata": {},
   "outputs": [],
   "source": []
  }
 ],
 "metadata": {
  "kernelspec": {
   "display_name": "Python 3",
   "language": "python",
   "name": "python3"
  },
  "language_info": {
   "codemirror_mode": {
    "name": "ipython",
    "version": 3
   },
   "file_extension": ".py",
   "mimetype": "text/x-python",
   "name": "python",
   "nbconvert_exporter": "python",
   "pygments_lexer": "ipython3",
   "version": "3.12.4"
  }
 },
 "nbformat": 4,
 "nbformat_minor": 2
}
