{
 "cells": [
  {
   "cell_type": "markdown",
   "metadata": {},
   "source": [
    "Se eliminara la columna State dado que la informacion no tiene relevancia para el analisis.  \n",
    "Se eliminara la columna City dado que no se usaran para el analisis, este dato puede ser util sabiendo su densidad problacional."
   ]
  },
  {
   "cell_type": "code",
   "execution_count": 36,
   "metadata": {},
   "outputs": [],
   "source": [
    "df = pd.read_csv(\"C:\\\\Users\\\\nicol\\\\Desktop\\\\financial_risk_assessment.csv\")\n",
    "    # Eliminar la columna 'State'\n",
    "df.drop(columns=['State'], inplace=True)\n",
    "df.drop(columns=['City'], inplace=True)\n",
    "\n",
    "df.to_csv(\"C:\\\\Users\\\\nicol\\\\Desktop\\\\financial_risk_assessment2.csv\")"
   ]
  },
  {
   "cell_type": "markdown",
   "metadata": {},
   "source": []
  },
  {
   "cell_type": "markdown",
   "metadata": {},
   "source": [
    "Se eliminaron las columnas \"city\" y \"State\" dado que no seran de relevancia para el analisis"
   ]
  },
  {
   "cell_type": "markdown",
   "metadata": {},
   "source": []
  }
 ],
 "metadata": {
  "kernelspec": {
   "display_name": "Python 3",
   "language": "python",
   "name": "python3"
  },
  "language_info": {
   "codemirror_mode": {
    "name": "ipython",
    "version": 3
   },
   "file_extension": ".py",
   "mimetype": "text/x-python",
   "name": "python",
   "nbconvert_exporter": "python",
   "pygments_lexer": "ipython3",
   "version": "3.12.4"
  }
 },
 "nbformat": 4,
 "nbformat_minor": 2
}
